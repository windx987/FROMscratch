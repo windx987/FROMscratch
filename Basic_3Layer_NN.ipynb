{
  "nbformat": 4,
  "nbformat_minor": 0,
  "metadata": {
    "colab": {
      "provenance": [],
      "gpuType": "T4",
      "authorship_tag": "ABX9TyOFtAsKTi5KasBcwNNmlrVT",
      "include_colab_link": true
    },
    "kernelspec": {
      "name": "python3",
      "display_name": "Python 3"
    },
    "language_info": {
      "name": "python"
    },
    "accelerator": "GPU"
  },
  "cells": [
    {
      "cell_type": "markdown",
      "metadata": {
        "id": "view-in-github",
        "colab_type": "text"
      },
      "source": [
        "<a href=\"https://colab.research.google.com/github/windx987/FROMscratch/blob/main/Basic_3Layer_NN.ipynb\" target=\"_parent\"><img src=\"https://colab.research.google.com/assets/colab-badge.svg\" alt=\"Open In Colab\"/></a>"
      ]
    },
    {
      "cell_type": "code",
      "execution_count": null,
      "metadata": {
        "id": "hYbN90Enz5bY"
      },
      "outputs": [],
      "source": [
        "import numpy as np\n",
        "from matplotlib import pyplot as plt,rc\n",
        "from matplotlib.animation import FuncAnimation as animate\n",
        "rc('animation' ,html='html5')\n",
        "%matplotlib inline"
      ]
    },
    {
      "cell_type": "code",
      "source": [
        "class NeuralNet:\n",
        "  def __init__(self, inFeatures, hiddenFeatures, numClasses) -> None:\n",
        "    self.__hiddenFeatures = hiddenFeatures\n",
        "    self.__numclass = numClasses\n",
        "    self.w1 = np.random.rand(inFeatures, hiddenFeatures)\n",
        "    self.w2 = np.random.rand(hiddenFeatures, numClasses)\n",
        "\n",
        "  def forward(self, x):\n",
        "    self.__z = np.matmul(self.w1.T, x)\n",
        "    self.__a = self.__sigmoid(self, self.__z)\n",
        "    self.__s = np.matmul(self,w2.T, self.__a)\n",
        "    self.__probs = self.__softmax()\n",
        "\n",
        "  def __softmax(self, x):\n",
        "        a = np.exp(x)\n",
        "        return a/a.sum\n",
        "\n",
        "  def __sigmoid(self, x):\n",
        "      return 1/(1+np.exp(-x))\n",
        "\n",
        "  # dw1 <- dw2 <- cost(y')\n",
        "  def backward(self, x, y):\n",
        "    self.__probs[y] -= 1\n",
        "    diag2 = np.diag(self.__probs.ravel())\n",
        "    dw2 = np.matmul(self.__a, np.ones((1, self.__numclass)))\n",
        "    dw2 = np.matmul(dw2, diag2)\n",
        "\n",
        "    a = self.__sigmoid(self.__z)\n",
        "    d = np.matmul(self.w2, self.__probs) * (a * (1 - a))\n",
        "    diag1 = np.diag(d.ravel())\n",
        "    dw1 = np.matmul(x, np.ones((1, self.__hiddenFeatures)))\n",
        "    dw1 = np.matmul(dw1, diag1)\n",
        "    return dw1, dw2"
      ],
      "metadata": {
        "id": "iR6Wgcfy1d7c"
      },
      "execution_count": null,
      "outputs": []
    }
  ]
}